{
 "cells": [
  {
   "cell_type": "markdown",
   "metadata": {},
   "source": [
    "## Model for Denoised Audios"
   ]
  },
  {
   "cell_type": "code",
   "execution_count": 31,
   "metadata": {},
   "outputs": [],
   "source": [
    "#Importing the required libraries\n",
    "import os\n",
    "import glob\n",
    "import librosa\n",
    "import librosa.display\n",
    "import numpy as np\n",
    "import pandas as pd\n",
    "import matplotlib.pyplot as plt\n",
    "from scipy.io import wavfile\n",
    "from scipy import fftpack\n",
    "from scipy.stats import kurtosis,skew,mode\n",
    "import sklearn.preprocessing,sklearn.decomposition\n",
    "from sklearn.metrics import accuracy_score,confusion_matrix\n",
    "from sklearn.utils import shuffle\n",
    "from sklearn.neural_network import MLPClassifier\n",
    "from sklearn.ensemble import RandomForestClassifier\n",
    "from sklearn import svm\n",
    "from sklearn.naive_bayes import MultinomialNB,GaussianNB\n",
    "from sklearn.preprocessing import StandardScaler\n",
    "from sklearn.model_selection import StratifiedShuffleSplit,StratifiedKFold,train_test_split\n",
    "from keras import utils\n",
    "import keras\n",
    "from keras import layers\n",
    "from keras.layers import Activation, Dense, Dropout, Conv1D, Conv2D, Flatten,Reshape, BatchNormalization, ZeroPadding2D,MaxPooling1D,AveragePooling1D, MaxPooling2D, GlobalMaxPooling2D, GlobalAveragePooling1D, AveragePooling2D, Input, Add\n",
    "from keras.models import Sequential\n",
    "from keras import regularizers,optimizers\n",
    "from tensorflow.keras.optimizers import SGD,Adam\n",
    "from tensorflow.keras.utils import to_categorical\n",
    "import keras.backend as K\n",
    "from keras.models import load_model\n",
    "from keras.callbacks import EarlyStopping\n",
    "import warnings\n",
    "warnings.filterwarnings(\"ignore\")"
   ]
  },
  {
   "cell_type": "code",
   "execution_count": 32,
   "metadata": {},
   "outputs": [],
   "source": [
    "df2 = pd.read_csv(r\"C:\\Users\\pavan\\Documents\\Fall 2024\\EE502 ML in Bio\\Final Project\\SWC\\denoised_features.csv\")"
   ]
  },
  {
   "cell_type": "markdown",
   "metadata": {},
   "source": [
    "### Preprocessing and Normalization"
   ]
  },
  {
   "cell_type": "code",
   "execution_count": 33,
   "metadata": {},
   "outputs": [],
   "source": [
    "from sklearn.preprocessing import StandardScaler, LabelEncoder\n",
    "\n",
    "# Drop the specified columns correctly\n",
    "X = df2.drop(columns=[\"Label\"])\n",
    "y = df2[\"Label\"]\n",
    "\n",
    "label_encoder = LabelEncoder()\n",
    "y_encoded = label_encoder.fit_transform(y)\n",
    "\n",
    "# Initialize and apply the scaler\n",
    "scaler = StandardScaler()\n",
    "X_scaled = scaler.fit_transform(X)  # Standardize the features\n"
   ]
  },
  {
   "cell_type": "markdown",
   "metadata": {},
   "source": [
    "### Splitting the dataset\n",
    "#### Test size 30% and Train size 70%"
   ]
  },
  {
   "cell_type": "code",
   "execution_count": 34,
   "metadata": {},
   "outputs": [],
   "source": [
    "# Train-test split\n",
    "X_train, X_test, y_train, y_test = train_test_split(X_scaled, y_encoded, test_size=0.3, random_state=42)"
   ]
  },
  {
   "cell_type": "markdown",
   "metadata": {},
   "source": [
    "### PCA"
   ]
  },
  {
   "cell_type": "code",
   "execution_count": 35,
   "metadata": {},
   "outputs": [],
   "source": [
    "from sklearn.decomposition import PCA\n",
    "\n",
    "# Apply PCA\n",
    "pca = PCA(n_components=10)  # Adjust 'n_components' as needed\n",
    "X_train_pca = pca.fit_transform(X_train)\n",
    "X_test_pca = pca.transform(X_test)\n",
    "\n"
   ]
  },
  {
   "cell_type": "markdown",
   "metadata": {},
   "source": [
    "### Random Forest Model with PCA"
   ]
  },
  {
   "cell_type": "code",
   "execution_count": 36,
   "metadata": {},
   "outputs": [
    {
     "name": "stdout",
     "output_type": "stream",
     "text": [
      "Random Forest F1 Score: 0.80\n",
      "Best Parameters from Grid Search: {'max_depth': 20, 'n_estimators': 50}\n",
      "Accuracy with All Features: 0.79\n",
      "\n",
      "Classification Report:\n",
      "              precision    recall  f1-score   support\n",
      "\n",
      "           0       0.95      0.87      0.91       275\n",
      "           1       0.69      0.76      0.72       258\n",
      "           2       0.75      0.75      0.75       262\n",
      "\n",
      "    accuracy                           0.79       795\n",
      "   macro avg       0.80      0.79      0.80       795\n",
      "weighted avg       0.80      0.79      0.80       795\n",
      "\n"
     ]
    },
    {
     "data": {
      "image/png": "[encoded data removed]",
      "text/plain": [
       "<Figure size 640x480 with 2 Axes>"
      ]
     },
     "metadata": {},
     "output_type": "display_data"
    }
   ],
   "source": [
    "from sklearn.svm import SVC\n",
    "from sklearn.ensemble import RandomForestClassifier\n",
    "from sklearn.metrics import f1_score, accuracy_score, classification_report, confusion_matrix, ConfusionMatrixDisplay\n",
    "from sklearn.model_selection import GridSearchCV\n",
    "import pandas as pd\n",
    "import matplotlib.pyplot as plt\n",
    "\n",
    "# Define parameter grid for Grid Search\n",
    "param_grid_rf = {'n_estimators': [50, 100, 200], 'max_depth': [None, 10, 20]}\n",
    "\n",
    "# Grid Search with Random Forest\n",
    "rf = RandomForestClassifier(random_state=42)\n",
    "grid_search_rf = GridSearchCV(rf, param_grid_rf, scoring='f1_weighted', cv=3)\n",
    "grid_search_rf.fit(X_train_pca, y_train)\n",
    "\n",
    "# Train with best RF parameters\n",
    "best_rf = grid_search_rf.best_estimator_\n",
    "rf_pred = best_rf.predict(X_test_pca)\n",
    "rf_f1 = f1_score(y_test, rf_pred, average='weighted')\n",
    "accuracy_rf = accuracy_score(y_test, rf_pred)\n",
    "\n",
    "print(f\"Random Forest F1 Score: {rf_f1:.2f}\")\n",
    "print(f\"Best Parameters from Grid Search: {grid_search_rf.best_params_}\")\n",
    "print(f\"Accuracy with All Features: {accuracy_rf:.2f}\")\n",
    "print(\"\\nClassification Report:\")\n",
    "print(classification_report(y_test, rf_pred))\n",
    "\n",
    "# Confusion Matrix\n",
    "rf_conf_matrix = confusion_matrix(y_test, rf_pred)\n",
    "ConfusionMatrixDisplay(rf_conf_matrix).plot(cmap='Blues')\n",
    "plt.title(\"Random Forest Confusion Matrix\")\n",
    "plt.show()"
   ]
  },
  {
   "cell_type": "markdown",
   "metadata": {},
   "source": [
    "### Random Forest Model"
   ]
  },
  {
   "cell_type": "code",
   "execution_count": 37,
   "metadata": {},
   "outputs": [
    {
     "name": "stdout",
     "output_type": "stream",
     "text": [
      "Random Forest F1 Score: 0.84\n",
      "Best Parameters from Grid Search: {'max_depth': 20, 'n_estimators': 100}\n",
      "Accuracy with All Features: 0.84\n",
      "\n",
      "Classification Report:\n",
      "              precision    recall  f1-score   support\n",
      "\n",
      "           0       0.98      0.88      0.93       275\n",
      "           1       0.76      0.81      0.79       258\n",
      "           2       0.78      0.82      0.80       262\n",
      "\n",
      "    accuracy                           0.84       795\n",
      "   macro avg       0.84      0.84      0.84       795\n",
      "weighted avg       0.85      0.84      0.84       795\n",
      "\n"
     ]
    },
    {
     "data": {
      "image/png": "[encoded data removed]",
      "text/plain": [
       "<Figure size 640x480 with 2 Axes>"
      ]
     },
     "metadata": {},
     "output_type": "display_data"
    }
   ],
   "source": [
    "\n",
    "from sklearn.ensemble import RandomForestClassifier\n",
    "from sklearn.metrics import f1_score, accuracy_score, classification_report, confusion_matrix, ConfusionMatrixDisplay\n",
    "from sklearn.model_selection import GridSearchCV\n",
    "\n",
    "# Define parameter grid for Grid Search\n",
    "param_grid_rf = {'n_estimators': [50, 100, 200], 'max_depth': [None, 10, 20]}\n",
    "\n",
    "# Grid Search with Random Forest\n",
    "rf = RandomForestClassifier(random_state=42)\n",
    "grid_search_rf = GridSearchCV(rf, param_grid_rf, scoring='f1_weighted', cv=3)\n",
    "grid_search_rf.fit(X_train, y_train)\n",
    "\n",
    "# Train with best RF parameters\n",
    "best_rf = grid_search_rf.best_estimator_\n",
    "rf_pred = best_rf.predict(X_test)\n",
    "rf_f1 = f1_score(y_test, rf_pred, average='weighted')\n",
    "accuracy_rf = accuracy_score(y_test, rf_pred)\n",
    "\n",
    "print(f\"Random Forest F1 Score: {rf_f1:.2f}\")\n",
    "print(f\"Best Parameters from Grid Search: {grid_search_rf.best_params_}\")\n",
    "print(f\"Accuracy with All Features: {accuracy_rf:.2f}\")\n",
    "print(\"\\nClassification Report:\")\n",
    "print(classification_report(y_test, rf_pred))\n",
    "\n",
    "# Confusion Matrix\n",
    "rf_conf_matrix = confusion_matrix(y_test, rf_pred)\n",
    "ConfusionMatrixDisplay(rf_conf_matrix).plot(cmap='Blues')\n",
    "plt.title(\"Random Forest Confusion Matrix\")\n",
    "plt.show()"
   ]
  },
  {
   "cell_type": "markdown",
   "metadata": {},
   "source": [
    "### Feature Importance Analysis"
   ]
  },
  {
   "cell_type": "code",
   "execution_count": 38,
   "metadata": {},
   "outputs": [
    {
     "name": "stdout",
     "output_type": "stream",
     "text": [
      "\n",
      "Top 10 Features by Importance:\n",
      "               Feature  Importance\n",
      "25  SpectralContrast_0    0.125562\n",
      "26  SpectralContrast_1    0.065294\n",
      "11             MFCC_11    0.056186\n",
      "31  SpectralContrast_6    0.054994\n",
      "2               MFCC_2    0.050966\n",
      "12             MFCC_12    0.035489\n",
      "0               MFCC_0    0.034563\n",
      "5               MFCC_5    0.031629\n",
      "9               MFCC_9    0.031006\n",
      "24           Chroma_11    0.028740\n",
      "\n",
      "Random Forest F1 Score with Top Features: 0.84\n",
      "Accuracy with Top Features: 0.84\n",
      "\n",
      "Classification Report (Top Features):\n",
      "              precision    recall  f1-score   support\n",
      "\n",
      "           0       0.98      0.88      0.93       275\n",
      "           1       0.76      0.81      0.79       258\n",
      "           2       0.78      0.81      0.79       262\n",
      "\n",
      "    accuracy                           0.84       795\n",
      "   macro avg       0.84      0.83      0.84       795\n",
      "weighted avg       0.84      0.84      0.84       795\n",
      "\n"
     ]
    },
    {
     "data": {
      "image/png": "[encoded data removed]",
      "text/plain": [
       "<Figure size 640x480 with 2 Axes>"
      ]
     },
     "metadata": {},
     "output_type": "display_data"
    }
   ],
   "source": [
    "# Extract feature importances\n",
    "feature_importances = best_rf.feature_importances_\n",
    "\n",
    "# Assuming X_train was originally a DataFrame\n",
    "feature_names = list(X.columns) if isinstance(X, pd.DataFrame) else [f\"Feature_{i}\" for i in range(X_train.shape[1])]\n",
    "\n",
    "# Create a DataFrame for visualization\n",
    "feature_importance_df = pd.DataFrame({\n",
    "    'Feature': feature_names,\n",
    "    'Importance': feature_importances\n",
    "}).sort_values(by='Importance', ascending=False)\n",
    "\n",
    "# Print the top features\n",
    "print(\"\\nTop 10 Features by Importance:\")\n",
    "print(feature_importance_df.head(10))\n",
    "\n",
    "# Select Top Features\n",
    "top_features = feature_importance_df['Feature'].head(18).values  # Adjust '10' to the desired number of top features\n",
    "\n",
    "# Convert top feature names to indices if needed\n",
    "if isinstance(X_train, pd.DataFrame):\n",
    "    X_train_top = X_train[top_features]\n",
    "    X_test_top = X_test[top_features]\n",
    "else:  # For NumPy arrays\n",
    "    top_features_indices = [feature_names.index(f) for f in top_features]\n",
    "    X_train_top = X_train[:, top_features_indices]\n",
    "    X_test_top = X_test[:, top_features_indices]\n",
    "\n",
    "# Train a new Random Forest model with top-ranked features\n",
    "rf_top = RandomForestClassifier(random_state=42, **grid_search_rf.best_params_)\n",
    "rf_top.fit(X_train_top, y_train)\n",
    "rf_pred_top = rf_top.predict(X_test_top)\n",
    "\n",
    "# Evaluate the new model\n",
    "rf_f1_top = f1_score(y_test, rf_pred_top, average='weighted')\n",
    "accuracy_rf_top = accuracy_score(y_test, rf_pred_top)\n",
    "\n",
    "print(f\"\\nRandom Forest F1 Score with Top Features: {rf_f1_top:.2f}\")\n",
    "print(f\"Accuracy with Top Features: {accuracy_rf_top:.2f}\")\n",
    "print(\"\\nClassification Report (Top Features):\")\n",
    "print(classification_report(y_test, rf_pred_top))\n",
    "\n",
    "# Confusion Matrix for top features\n",
    "rf_conf_matrix_top = confusion_matrix(y_test, rf_pred_top)\n",
    "ConfusionMatrixDisplay(rf_conf_matrix_top).plot(cmap='Blues')\n",
    "plt.title(\"Random Forest Confusion Matrix (Top Features)\")\n",
    "plt.show()\n"
   ]
  },
  {
   "cell_type": "markdown",
   "metadata": {},
   "source": [
    "### SVM Model"
   ]
  },
  {
   "cell_type": "code",
   "execution_count": 39,
   "metadata": {},
   "outputs": [
    {
     "name": "stdout",
     "output_type": "stream",
     "text": [
      "Best Parameters from Grid Search: {'C': 0.1, 'kernel': 'linear'}\n",
      "Accuracy: 0.78\n",
      "F1 Score: 0.78\n",
      "\n",
      "Classification Report:\n",
      "              precision    recall  f1-score   support\n",
      "\n",
      "           0       0.87      0.87      0.87       275\n",
      "           1       0.72      0.69      0.70       258\n",
      "           2       0.74      0.77      0.75       262\n",
      "\n",
      "    accuracy                           0.78       795\n",
      "   macro avg       0.77      0.77      0.77       795\n",
      "weighted avg       0.78      0.78      0.78       795\n",
      "\n"
     ]
    },
    {
     "data": {
      "image/png": "[encoded data removed]",
      "text/plain": [
       "<Figure size 640x480 with 2 Axes>"
      ]
     },
     "metadata": {},
     "output_type": "display_data"
    }
   ],
   "source": [
    "from sklearn.svm import SVC\n",
    "from sklearn.ensemble import RandomForestClassifier\n",
    "from sklearn.metrics import f1_score\n",
    "from sklearn.model_selection import GridSearchCV\n",
    "from sklearn.preprocessing import StandardScaler\n",
    "\n",
    "# Define parameter grid for Grid Search\n",
    "param_grid_svm = {'C': [0.1, 1, 10], 'kernel': ['linear', 'rbf']}\n",
    "\n",
    "# Grid Search with SVM\n",
    "svm = SVC()\n",
    "grid_search_svm = GridSearchCV(svm, param_grid_svm, scoring='f1', cv=3)\n",
    "grid_search_svm.fit(X_train, y_train)\n",
    "\n",
    "# Train with best SVM parameters\n",
    "best_svm = grid_search_svm.best_estimator_\n",
    "svm_pred = best_svm.predict(X_test)\n",
    "svm_f1 = f1_score(y_test, svm_pred, average='weighted')\n",
    "\n",
    "# Evaluate the model\n",
    "accuracy_svm = accuracy_score(y_test, svm_pred)\n",
    "\n",
    "print(f\"Best Parameters from Grid Search: {grid_search_svm.best_params_}\")\n",
    "print(f\"Accuracy: {accuracy_svm:.2f}\")\n",
    "print(f\"F1 Score: {svm_f1:.2f}\")\n",
    "print(\"\\nClassification Report:\")\n",
    "print(classification_report(y_test, svm_pred))\n",
    "svm_conf_matrix = confusion_matrix(y_test, svm_pred)\n",
    "\n",
    "# Plot the confusion matrix\n",
    "ConfusionMatrixDisplay(svm_conf_matrix).plot(cmap='Oranges')\n",
    "plt.title(\"SVM Confusion Matrix\")\n",
    "plt.show()\n"
   ]
  },
  {
   "cell_type": "markdown",
   "metadata": {},
   "source": [
    "### HMM Model"
   ]
  },
  {
   "cell_type": "code",
   "execution_count": 40,
   "metadata": {},
   "outputs": [
    {
     "name": "stdout",
     "output_type": "stream",
     "text": [
      "Starting Grid Search...\n",
      "Training with params: n_components=3, covariance_type=diag, n_iter=50\n",
      "Training with params: n_components=3, covariance_type=diag, n_iter=100\n",
      "Training with params: n_components=3, covariance_type=full, n_iter=50\n",
      "Training with params: n_components=3, covariance_type=full, n_iter=100\n",
      "\n",
      "Best Parameters Found:\n",
      "{'n_components': 3, 'covariance_type': 'diag', 'n_iter': 50}\n",
      "Best F1-Score: 0.2102\n",
      "\n",
      "HMM Model Performance with Best Parameters:\n",
      "F1-Score: 0.2102\n",
      "Accuracy: 0.26\n",
      "\n",
      "Classification Report:\n",
      "              precision    recall  f1-score   support\n",
      "\n",
      "           0       0.14      0.04      0.06       275\n",
      "           1       0.29      0.16      0.20       258\n",
      "           2       0.27      0.61      0.38       262\n",
      "\n",
      "    accuracy                           0.26       795\n",
      "   macro avg       0.23      0.27      0.21       795\n",
      "weighted avg       0.23      0.26      0.21       795\n",
      "\n"
     ]
    },
    {
     "data": {
      "image/png": "[encoded data removed]",
      "text/plain": [
       "<Figure size 640x480 with 2 Axes>"
      ]
     },
     "metadata": {},
     "output_type": "display_data"
    }
   ],
   "source": [
    "from hmmlearn import hmm\n",
    "from sklearn.preprocessing import LabelEncoder, StandardScaler\n",
    "from sklearn.metrics import f1_score, accuracy_score, classification_report, confusion_matrix, ConfusionMatrixDisplay\n",
    "import numpy as np\n",
    "import matplotlib.pyplot as plt\n",
    "from itertools import product\n",
    "\n",
    "# Ensure X_train and X_test are already loaded and structured correctly.\n",
    "# y_train and y_test should be the corresponding labels.\n",
    "\n",
    "# Step 1: Scale the features\n",
    "scaler = StandardScaler()\n",
    "X_train_scaled = scaler.fit_transform(X_train)\n",
    "X_test_scaled = scaler.transform(X_test)\n",
    "\n",
    "# Step 2: Encode the labels\n",
    "label_encoder = LabelEncoder()\n",
    "y_train_encoded = label_encoder.fit_transform(y_train)\n",
    "y_test_encoded = label_encoder.transform(y_test)\n",
    "\n",
    "# Step 3: Flatten X_train and X_test into a single sequence for HMM\n",
    "X_train_seq = np.concatenate(X_train_scaled).reshape(-1, 1)\n",
    "X_test_seq = np.concatenate(X_test_scaled).reshape(-1, 1)\n",
    "\n",
    "# Step 4: Define lengths for each sequence in the training and test sets\n",
    "train_lengths = [X_train.shape[1]] * X_train.shape[0]  # Assuming equal-length sequences in training data\n",
    "test_lengths = [X_test.shape[1]] * X_test.shape[0]  # Assuming equal-length sequences in test data\n",
    "\n",
    "# Step 5: Define parameter grid for HMM\n",
    "param_grid = {\n",
    "    'n_components': [3],  # Number of hidden states\n",
    "    'covariance_type': ['diag', 'full'],  # Covariance type\n",
    "    'n_iter': [50, 100]  # Number of iterations\n",
    "}\n",
    "\n",
    "best_score = -np.inf\n",
    "best_params = None\n",
    "best_model = None\n",
    "\n",
    "# Step 6: Perform Grid Search\n",
    "print(\"Starting Grid Search...\")\n",
    "for n_components, covariance_type, n_iter in product(param_grid['n_components'], param_grid['covariance_type'], param_grid['n_iter']):\n",
    "    print(f\"Training with params: n_components={n_components}, covariance_type={covariance_type}, n_iter={n_iter}\")\n",
    "    hmm_model = hmm.GaussianHMM(n_components=n_components, covariance_type=covariance_type, n_iter=n_iter, random_state=42)\n",
    "    try:\n",
    "        hmm_model.fit(X_train_seq, lengths=train_lengths)\n",
    "        # Predict and evaluate on the training set (cross-validation can be added for more robust tuning)\n",
    "        hmm_predictions = hmm_model.predict(X_test_seq, lengths=test_lengths)\n",
    "        \n",
    "        # Aggregate predictions for each sequence\n",
    "        split_indices = np.cumsum(test_lengths[:-1])  # Determine split points\n",
    "        grouped_predictions = np.split(hmm_predictions, split_indices)\n",
    "        aggregated_predictions = [np.bincount(group).argmax() for group in grouped_predictions]\n",
    "        \n",
    "        # Evaluate the F1-score\n",
    "        hmm_f1 = f1_score(y_test_encoded, aggregated_predictions, average='weighted')\n",
    "        \n",
    "        if hmm_f1 > best_score:\n",
    "            best_score = hmm_f1\n",
    "            best_params = {\n",
    "                'n_components': n_components,\n",
    "                'covariance_type': covariance_type,\n",
    "                'n_iter': n_iter\n",
    "            }\n",
    "            best_model = hmm_model\n",
    "    except Exception as e:\n",
    "        print(f\"Error with params {n_components, covariance_type, n_iter}: {e}\")\n",
    "        continue\n",
    "\n",
    "print(\"\\nBest Parameters Found:\")\n",
    "print(best_params)\n",
    "print(f\"Best F1-Score: {best_score:.4f}\")\n",
    "\n",
    "# Step 7: Evaluate the Best Model\n",
    "if best_model is not None:\n",
    "    hmm_predictions = best_model.predict(X_test_seq, lengths=test_lengths)\n",
    "    \n",
    "    # Aggregate predictions for each sequence\n",
    "    split_indices = np.cumsum(test_lengths[:-1])\n",
    "    grouped_predictions = np.split(hmm_predictions, split_indices)\n",
    "    aggregated_predictions = [np.bincount(group).argmax() for group in grouped_predictions]\n",
    "    \n",
    "    # Ensure predictions align with the number of test samples\n",
    "    assert len(aggregated_predictions) == len(y_test_encoded)\n",
    "    \n",
    "    # Metrics\n",
    "    accuracy_hmm = accuracy_score(y_test_encoded, aggregated_predictions)\n",
    "    \n",
    "    print(\"\\nHMM Model Performance with Best Parameters:\")\n",
    "    print(f\"F1-Score: {best_score:.4f}\")\n",
    "    print(f\"Accuracy: {accuracy_hmm:.2f}\")\n",
    "    print(\"\\nClassification Report:\")\n",
    "    print(classification_report(y_test_encoded, aggregated_predictions, target_names=list(map(str, label_encoder.classes_))))\n",
    "    \n",
    "    # Confusion Matrix\n",
    "    hmm_conf_matrix = confusion_matrix(y_test_encoded, aggregated_predictions)\n",
    "    ConfusionMatrixDisplay(hmm_conf_matrix, display_labels=label_encoder.classes_).plot(cmap='Oranges')\n",
    "    plt.title(\"HMM Confusion Matrix (Best Parameters)\")\n",
    "    plt.show()\n",
    "else:\n",
    "    print(\"No valid model found during grid search.\")\n"
   ]
  },
  {
   "cell_type": "markdown",
   "metadata": {},
   "source": [
    "#### Comparision Table"
   ]
  },
  {
   "cell_type": "code",
   "execution_count": 41,
   "metadata": {},
   "outputs": [
    {
     "name": "stdout",
     "output_type": "stream",
     "text": [
      "\n",
      "Comparison Table:\n",
      "     Metric       SVM  Random Forest       HMM\n",
      "0  Accuracy  0.776101       0.838994  0.264151\n",
      "1  F1 Score  0.775658       0.841430  0.208885\n"
     ]
    }
   ],
   "source": [
    "import pandas as pd\n",
    "\n",
    "comparison_df = pd.DataFrame({\n",
    "    \"Metric\": [\"Accuracy\", \"F1 Score\"],\n",
    "    \"SVM\": [accuracy_svm, svm_f1],\n",
    "    \"Random Forest\": [accuracy_rf, rf_f1],\n",
    "    \"HMM\": [accuracy_hmm, hmm_f1]\n",
    "})\n",
    "\n",
    "print(\"\\nComparison Table:\")\n",
    "print(comparison_df)\n"
   ]
  },
  {
   "cell_type": "markdown",
   "metadata": {},
   "source": [
    "### Statstical Tests"
   ]
  },
  {
   "cell_type": "markdown",
   "metadata": {},
   "source": [
    "#### ANOVA Test on models"
   ]
  },
  {
   "cell_type": "code",
   "execution_count": 42,
   "metadata": {},
   "outputs": [
    {
     "name": "stdout",
     "output_type": "stream",
     "text": [
      "\n",
      "F1-Scores for Each Model Across Folds:\n",
      "   Random Forest       SVM\n",
      "0       0.836416  0.828184\n",
      "1       0.836701  0.868945\n",
      "2       0.834793  0.851260\n",
      "3       0.834345  0.885422\n",
      "4       0.831274  0.832585\n",
      "\n",
      "ANOVA Test:\n",
      "F-statistic = 2.9242, p-value = 0.1256\n"
     ]
    }
   ],
   "source": [
    "from sklearn.model_selection import StratifiedKFold\n",
    "from sklearn.metrics import f1_score, classification_report, accuracy_score\n",
    "from sklearn.ensemble import RandomForestClassifier\n",
    "from sklearn.svm import SVC\n",
    "from hmmlearn import hmm\n",
    "from scipy.stats import f_oneway, ttest_rel\n",
    "import numpy as np\n",
    "import pandas as pd\n",
    "\n",
    "# Prepare the data (assuming X_scaled and y_encoded are already preprocessed)\n",
    "X = X_scaled  # Scaled features\n",
    "y = y_encoded  # Labels (encoded as integers)\n",
    "\n",
    "# Initialize Stratified K-Fold\n",
    "n_splits = 5  # Number of folds\n",
    "skf = StratifiedKFold(n_splits=n_splits, shuffle=True, random_state=42)\n",
    "\n",
    "# Initialize lists to store F1-scores for statistical comparison\n",
    "rf_f1_scores = []\n",
    "svm_f1_scores = []\n",
    "\n",
    "# Loop through each fold\n",
    "for train_index, test_index in skf.split(X, y):\n",
    "    X_train, X_test = X[train_index], X[test_index]\n",
    "    y_train, y_test = y[train_index], y[test_index]\n",
    "    \n",
    "    # Random Forest\n",
    "    rf = RandomForestClassifier(n_estimators=200, random_state=42)\n",
    "    rf.fit(X_train, y_train)\n",
    "    rf_pred = rf.predict(X_test)\n",
    "    rf_f1_scores.append(f1_score(y_test, rf_pred, average='weighted'))\n",
    "    \n",
    "    # SVM\n",
    "    svm = SVC(C=10, kernel='rbf', random_state=42)\n",
    "    svm.fit(X_train, y_train)\n",
    "    svm_pred = svm.predict(X_test)\n",
    "    svm_f1_scores.append(f1_score(y_test, svm_pred, average='weighted'))\n",
    "    \n",
    "# Combine F1-scores into a DataFrame for statistical analysis\n",
    "f1_scores_df = pd.DataFrame({\n",
    "    'Random Forest': rf_f1_scores,\n",
    "    'SVM': svm_f1_scores,\n",
    "})\n",
    "\n",
    "# Display F1-scores from all folds\n",
    "print(\"\\nF1-Scores for Each Model Across Folds:\")\n",
    "print(f1_scores_df)\n",
    "\n",
    "# Perform statistical comparisons\n",
    "# ANOVA test to compare the mean F1-scores\n",
    "anova_result = f_oneway(f1_scores_df['Random Forest'], f1_scores_df['SVM'])\n",
    "print(f\"\\nANOVA Test:\\nF-statistic = {anova_result.statistic:.4f}, p-value = {anova_result.pvalue:.4f}\")\n",
    "\n"
   ]
  },
  {
   "cell_type": "markdown",
   "metadata": {},
   "source": [
    "#### CHI-Square Test on Features"
   ]
  },
  {
   "cell_type": "code",
   "execution_count": 43,
   "metadata": {},
   "outputs": [
    {
     "name": "stdout",
     "output_type": "stream",
     "text": [
      "               Feature  Chi2 Score       p-value\n",
      "0               MFCC_0   27.652462  9.893370e-07\n",
      "1               MFCC_1   13.772083  1.021951e-03\n",
      "2               MFCC_2   80.437558  3.413550e-18\n",
      "3               MFCC_3   58.429229  2.052363e-13\n",
      "4               MFCC_4   17.711113  1.425873e-04\n",
      "5               MFCC_5   87.633164  9.347601e-20\n",
      "6               MFCC_6   43.525649  3.536107e-10\n",
      "7               MFCC_7   10.095565  6.423563e-03\n",
      "8               MFCC_8   37.298063  7.958449e-09\n",
      "9               MFCC_9   21.871448  1.781047e-05\n",
      "10             MFCC_10   61.055561  5.520183e-14\n",
      "11             MFCC_11  225.335275  1.172376e-49\n",
      "12             MFCC_12   54.126136  1.764652e-12\n",
      "13            Chroma_0   22.036957  1.639592e-05\n",
      "14            Chroma_1    6.673415  3.555383e-02\n",
      "15            Chroma_2   10.871795  4.357323e-03\n",
      "16            Chroma_3   18.522219  9.504981e-05\n",
      "17            Chroma_4   25.809877  2.485744e-06\n",
      "18            Chroma_5   38.667118  4.013673e-09\n",
      "19            Chroma_6   35.619181  1.842439e-08\n",
      "20            Chroma_7   32.564588  8.485737e-08\n",
      "21            Chroma_8   24.804518  4.109296e-06\n",
      "22            Chroma_9   49.581985  1.711625e-11\n",
      "23           Chroma_10   57.317730  3.577775e-13\n",
      "24           Chroma_11   67.680290  2.010999e-15\n",
      "25  SpectralContrast_0  381.924760  1.164373e-83\n",
      "26  SpectralContrast_1  428.943055  7.181234e-94\n",
      "27  SpectralContrast_2   11.502845  3.178256e-03\n",
      "28  SpectralContrast_3   61.811309  3.783073e-14\n",
      "29  SpectralContrast_4   82.926378  9.834807e-19\n",
      "30  SpectralContrast_5   55.688890  8.078136e-13\n",
      "31  SpectralContrast_6  139.203318  5.920844e-31\n"
     ]
    }
   ],
   "source": [
    "from sklearn.feature_selection import chi2\n",
    "from sklearn.preprocessing import KBinsDiscretizer\n",
    "import numpy as np\n",
    "\n",
    "# Separate features and labels\n",
    "X = df2.drop(columns=['Label'])\n",
    "y = df2['Label']\n",
    "\n",
    "# Discretize numerical features into categorical bins\n",
    "kbins = KBinsDiscretizer(n_bins=5, encode='ordinal', strategy='uniform')\n",
    "X_binned = kbins.fit_transform(X)\n",
    "\n",
    "# Perform Chi-Square test\n",
    "chi2_scores, p_values = chi2(X_binned, y)\n",
    "\n",
    "# Create a DataFrame for better readability\n",
    "chi2_results = pd.DataFrame({\n",
    "    'Feature': X.columns,\n",
    "    'Chi2 Score': chi2_scores,\n",
    "    'p-value': p_values\n",
    "})\n",
    "\n",
    "# Display results\n",
    "# Display the Chi-Square test results\n",
    "print(chi2_results)\n",
    "\n",
    "chi2_results.to_csv('chi.csv',index=False)"
   ]
  },
  {
   "cell_type": "markdown",
   "metadata": {},
   "source": [
    "#### Top 7 results for chi-square test"
   ]
  },
  {
   "cell_type": "code",
   "execution_count": 44,
   "metadata": {},
   "outputs": [
    {
     "name": "stdout",
     "output_type": "stream",
     "text": [
      "Top 7 Features Based on Chi-Square Test:\n",
      "               Feature  Chi2 Score       p-value\n",
      "26  SpectralContrast_1  428.943055  7.181234e-94\n",
      "25  SpectralContrast_0  381.924760  1.164373e-83\n",
      "11             MFCC_11  225.335275  1.172376e-49\n",
      "31  SpectralContrast_6  139.203318  5.920844e-31\n",
      "5               MFCC_5   87.633164  9.347601e-20\n",
      "29  SpectralContrast_4   82.926378  9.834807e-19\n",
      "2               MFCC_2   80.437558  3.413550e-18\n"
     ]
    }
   ],
   "source": [
    "top_7_features = chi2_results.sort_values(by='Chi2 Score', ascending=False).head(7)\n",
    "\n",
    "# Display the top 7 results\n",
    "print(\"Top 7 Features Based on Chi-Square Test:\")\n",
    "print(top_7_features)"
   ]
  },
  {
   "cell_type": "markdown",
   "metadata": {},
   "source": [
    "### T-Test Between Original and Denoised Audio Models"
   ]
  },
  {
   "cell_type": "code",
   "execution_count": 45,
   "metadata": {},
   "outputs": [
    {
     "name": "stdout",
     "output_type": "stream",
     "text": [
      "T-Statistic: 0.4122\n",
      "P-Value: 0.7013\n",
      "Fail to reject the null hypothesis: No significant difference between the two conditions.\n"
     ]
    }
   ],
   "source": [
    "from scipy.stats import ttest_rel\n",
    "\n",
    "# Example performance metrics for the same model under two conditions\n",
    "# Replace these with your actual values (e.g., F1-scores or accuracy)\n",
    "original_scores = [0.8362, 0.8480, 0.8424, 0.8265, 0.8275]  # Model scores on original dataset\n",
    "denoised_scores = [0.8364, 0.8367, 0.8347, 0.8343, 0.8312]  # Model scores on denoised dataset\n",
    "\n",
    "# Perform paired t-test\n",
    "t_stat, p_value = ttest_rel(original_scores, denoised_scores)\n",
    "\n",
    "# Print results\n",
    "print(f\"T-Statistic: {t_stat:.4f}\")\n",
    "print(f\"P-Value: {p_value:.4f}\")\n",
    "\n",
    "# Interpretation\n",
    "alpha = 0.05  # Significance level\n",
    "if p_value < alpha:\n",
    "    print(\"Reject the null hypothesis: There is a significant difference between the two conditions.\")\n",
    "else:\n",
    "    print(\"Fail to reject the null hypothesis: No significant difference between the two conditions.\")\n"
   ]
  }
 ],
 "metadata": {
  "kernelspec": {
   "display_name": "base",
   "language": "python",
   "name": "python3"
  },
  "language_info": {
   "codemirror_mode": {
    "name": "ipython",
    "version": 3
   },
   "file_extension": ".py",
   "mimetype": "text/x-python",
   "name": "python",
   "nbconvert_exporter": "python",
   "pygments_lexer": "ipython3",
   "version": "3.11.5"
  }
 },
 "nbformat": 4,
 "nbformat_minor": 2
}
