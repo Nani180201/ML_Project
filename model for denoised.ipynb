{
 "cells": [
  {
   "cell_type": "markdown",
   "metadata": {},
   "source": [
    "## Model for Denoised Audios"
   ]
  },
  {
   "cell_type": "code",
   "execution_count": 1,
   "metadata": {},
   "outputs": [],
   "source": [
    "#Importing the required libraries\n",
    "import numpy as np\n",
    "import pandas as pd\n",
    "import matplotlib.pyplot as plt\n",
    "from hmmlearn import hmm\n",
    "from sklearn.preprocessing import StandardScaler, LabelEncoder\n",
    "from sklearn.decomposition import PCA\n",
    "from sklearn.svm import SVC\n",
    "from sklearn.ensemble import RandomForestClassifier\n",
    "from sklearn.metrics import f1_score, accuracy_score, classification_report, confusion_matrix, ConfusionMatrixDisplay\n",
    "from sklearn.model_selection import StratifiedKFold, GridSearchCV,train_test_split\n",
    "from itertools import product\n",
    "from scipy.stats import f_oneway, ttest_rel\n",
    "from sklearn.feature_selection import chi2\n",
    "from sklearn.preprocessing import KBinsDiscretizer\n",
    "import warnings\n",
    "warnings.filterwarnings(\"ignore\")"
   ]
  },
  {
   "cell_type": "code",
   "execution_count": 2,
   "metadata": {},
   "outputs": [],
   "source": [
    "df2 = pd.read_csv(r\"C:\\Users\\pavan\\Documents\\Fall 2024\\EE502 ML in Bio\\Final Project\\SWC\\denoised_features.csv\")"
   ]
  },
  {
   "cell_type": "markdown",
   "metadata": {},
   "source": [
    "### Preprocessing and Normalization"
   ]
  },
  {
   "cell_type": "code",
   "execution_count": 3,
   "metadata": {},
   "outputs": [],
   "source": [
    "X = df2.drop(columns=[\"Label\"])\n",
    "y = df2[\"Label\"]\n",
    "\n",
    "label_encoder = LabelEncoder()\n",
    "y_encoded = label_encoder.fit_transform(y)\n",
    "\n",
    "#Standardization\n",
    "scaler = StandardScaler()\n",
    "X_scaled = scaler.fit_transform(X) \n"
   ]
  },
  {
   "cell_type": "markdown",
   "metadata": {},
   "source": [
    "### Splitting the dataset\n",
    "#### Test size 30% and Train size 70%"
   ]
  },
  {
   "cell_type": "code",
   "execution_count": 4,
   "metadata": {},
   "outputs": [],
   "source": [
    "# Splitting the data\n",
    "X_train, X_test, y_train, y_test = train_test_split(X_scaled, y_encoded, test_size=0.3, random_state=42)"
   ]
  },
  {
   "cell_type": "markdown",
   "metadata": {},
   "source": [
    "### PCA"
   ]
  },
  {
   "cell_type": "code",
   "execution_count": 5,
   "metadata": {},
   "outputs": [],
   "source": [
    "\n",
    "# Apply PCA\n",
    "pca = PCA(n_components=5)  #keeping n as 5 components\n",
    "X_train_pca = pca.fit_transform(X_train)\n",
    "X_test_pca = pca.transform(X_test)\n",
    "\n"
   ]
  },
  {
   "cell_type": "markdown",
   "metadata": {},
   "source": [
    "### Random Forest Model with PCA"
   ]
  },
  {
   "cell_type": "code",
   "execution_count": 6,
   "metadata": {},
   "outputs": [
    {
     "name": "stdout",
     "output_type": "stream",
     "text": [
      "Fitting 3 folds for each of 108 candidates, totalling 324 fits\n",
      "Fitting 3 folds for each of 108 candidates, totalling 324 fits\n",
      "Fitting 3 folds for each of 108 candidates, totalling 324 fits\n",
      "Fitting 3 folds for each of 108 candidates, totalling 324 fits\n",
      "Fitting 3 folds for each of 108 candidates, totalling 324 fits\n",
      "\n",
      "Cross-Validation Results (F1 Score, Accuracy):\n",
      "[[0.79669435 0.79514825]\n",
      " [0.75272118 0.74932615]\n",
      " [0.76923191 0.76549865]\n",
      " [0.74932064 0.74393531]\n",
      " [0.7087196  0.70540541]]\n",
      "Mean F1 Score of RF with PCA: 0.76\n",
      "Mean Accuracy of RF with PCA: 0.75\n",
      "\n",
      "Best Parameters from Grid Search of RF with PCA: {'max_depth': 20, 'min_samples_leaf': 1, 'min_samples_split': 2, 'n_estimators': 100}\n",
      "Test Set F1 Score of RF with PCA: 0.77\n",
      "Test Set Accuracy of RF with PCA: 0.77\n",
      "\n",
      "Classification Report of RF with PCA:\n",
      "              precision    recall  f1-score   support\n",
      "\n",
      "           0       0.95      0.85      0.90       275\n",
      "           1       0.67      0.74      0.70       258\n",
      "           2       0.71      0.72      0.71       262\n",
      "\n",
      "    accuracy                           0.77       795\n",
      "   macro avg       0.78      0.77      0.77       795\n",
      "weighted avg       0.78      0.77      0.77       795\n",
      "\n"
     ]
    },
    {
     "data": {
      "image/png": "[encoded data removed]",
      "text/plain": [
       "<Figure size 640x480 with 2 Axes>"
      ]
     },
     "metadata": {},
     "output_type": "display_data"
    }
   ],
   "source": [
    "#cross validation\n",
    "# Stratified K-Fold\n",
    "n_splits = 5  # Number of folds\n",
    "skf = StratifiedKFold(n_splits=n_splits, shuffle=True, random_state=42)\n",
    "\n",
    "# Grid Search\n",
    "param_grid_rf_pca = {\n",
    "    'n_estimators': [50, 100, 200],                \n",
    "    'max_depth': [None, 10, 20, 30],               \n",
    "    'min_samples_split': [2, 5, 10],               \n",
    "    'min_samples_leaf': [1, 2, 4],                 \n",
    "}\n",
    "\n",
    "# Storing the Cross-validation results\n",
    "cv_results = []\n",
    "best_params = None\n",
    "\n",
    "for train_index, val_index in skf.split(X_train_pca, y_train):\n",
    "    X_cv_train, X_cv_val = X_train_pca[train_index], X_train_pca[val_index]\n",
    "    y_cv_train, y_cv_val = y_train[train_index], y_train[val_index]\n",
    "    \n",
    "    # Grid Search for each fold\n",
    "    rf_pca = RandomForestClassifier(random_state=42)\n",
    "    grid_search_rf = GridSearchCV(rf_pca, param_grid_rf_pca, scoring='f1_weighted', cv=3, n_jobs=-1, verbose=1)\n",
    "    grid_search_rf.fit(X_cv_train, y_cv_train)\n",
    "    \n",
    "    #best model from Grid Search\n",
    "    best_rf = grid_search_rf.best_estimator_\n",
    "    rf_pred = best_rf.predict(X_cv_val)\n",
    "    \n",
    "    # Computing F1 Score and Accuracy for each  fold\n",
    "    rf_f1 = f1_score(y_cv_val, rf_pred, average='weighted')\n",
    "    accuracy_rf = accuracy_score(y_cv_val, rf_pred)\n",
    "    cv_results.append((rf_f1, accuracy_rf))\n",
    "    \n",
    "    # best parameters\n",
    "    best_params = grid_search_rf.best_params_\n",
    "\n",
    "# Training the model\n",
    "final_rf_pca = RandomForestClassifier(**best_params, random_state=42)\n",
    "final_rf_pca.fit(X_train_pca, y_train)\n",
    "\n",
    "# Evaluation\n",
    "rf_pred_test = final_rf_pca.predict(X_test_pca)\n",
    "rf_f1_test = f1_score(y_test, rf_pred_test, average='weighted')\n",
    "accuracy_rf_test = accuracy_score(y_test, rf_pred_test)\n",
    "\n",
    "# Print results\n",
    "print(\"\\nCross-Validation Results (F1 Score, Accuracy):\")\n",
    "print(np.array(cv_results))\n",
    "print(f\"Mean F1 Score of RF with PCA: {np.mean([r[0] for r in cv_results]):.2f}\")\n",
    "print(f\"Mean Accuracy of RF with PCA: {np.mean([r[1] for r in cv_results]):.2f}\")\n",
    "print(\"\\nBest Parameters from Grid Search of RF with PCA:\", best_params)\n",
    "print(f\"Test Set F1 Score of RF with PCA: {rf_f1_test:.2f}\")\n",
    "print(f\"Test Set Accuracy of RF with PCA: {accuracy_rf_test:.2f}\")\n",
    "print(\"\\nClassification Report of RF with PCA:\")\n",
    "print(classification_report(y_test, rf_pred_test))\n",
    "\n",
    "# Confusion Matrix\n",
    "rf_conf_matrix = confusion_matrix(y_test, rf_pred_test)\n",
    "ConfusionMatrixDisplay(rf_conf_matrix).plot(cmap='Blues')\n",
    "plt.title(\"Random Forest Confusion Matrix of RF with PCA (Test Set)\")\n",
    "plt.show()\n"
   ]
  },
  {
   "cell_type": "markdown",
   "metadata": {},
   "source": [
    "### SVM Model"
   ]
  },
  {
   "cell_type": "code",
   "execution_count": 7,
   "metadata": {},
   "outputs": [
    {
     "name": "stdout",
     "output_type": "stream",
     "text": [
      "Fitting 3 folds for each of 72 candidates, totalling 216 fits\n",
      "Fold 1: F1 Score = 0.86, Accuracy = 0.86\n",
      "Fitting 3 folds for each of 72 candidates, totalling 216 fits\n",
      "Fold 2: F1 Score = 0.84, Accuracy = 0.84\n",
      "Fitting 3 folds for each of 72 candidates, totalling 216 fits\n",
      "Fold 3: F1 Score = 0.85, Accuracy = 0.85\n",
      "Fitting 3 folds for each of 72 candidates, totalling 216 fits\n",
      "Fold 4: F1 Score = 0.84, Accuracy = 0.84\n",
      "Fitting 3 folds for each of 72 candidates, totalling 216 fits\n",
      "Fold 5: F1 Score = 0.82, Accuracy = 0.82\n",
      "\n",
      "Cross-Validation Summary:\n",
      "Mean F1 Score: 0.84\n",
      "Mean Accuracy: 0.84\n",
      "Best Parameters Across Folds: [{'C': 10, 'degree': 2, 'gamma': 'scale', 'kernel': 'rbf'}, {'C': 10, 'degree': 2, 'gamma': 'scale', 'kernel': 'rbf'}, {'C': 10, 'degree': 2, 'gamma': 'auto', 'kernel': 'rbf'}, {'C': 10, 'degree': 2, 'gamma': 'scale', 'kernel': 'rbf'}, {'C': 10, 'degree': 2, 'gamma': 'scale', 'kernel': 'rbf'}]\n",
      "\n",
      "Final Model Performance on Test Set:\n",
      "Test F1 Score: 0.85\n",
      "Test Accuracy: 0.85\n",
      "\n",
      "Classification Report for Test Set:\n",
      "              precision    recall  f1-score   support\n",
      "\n",
      "           0       0.95      0.89      0.92       275\n",
      "           1       0.78      0.83      0.81       258\n",
      "           2       0.82      0.82      0.82       262\n",
      "\n",
      "    accuracy                           0.85       795\n",
      "   macro avg       0.85      0.85      0.85       795\n",
      "weighted avg       0.85      0.85      0.85       795\n",
      "\n"
     ]
    },
    {
     "data": {
      "image/png": "[encoded data removed]",
      "text/plain": [
       "<Figure size 640x480 with 2 Axes>"
      ]
     },
     "metadata": {},
     "output_type": "display_data"
    }
   ],
   "source": [
    "\n",
    "# Grid Search\n",
    "param_grid_svm = {\n",
    "    'C': [0.1, 1, 10, 100],                   \n",
    "    'kernel': ['linear', 'rbf', 'poly'],      \n",
    "    'gamma': ['scale', 'auto'],             \n",
    "    'degree': [2, 3, 4]                     \n",
    "}\n",
    "\n",
    "#Stratified K-Fold\n",
    "n_splits = 5  # Number of folds\n",
    "skf = StratifiedKFold(n_splits=n_splits, shuffle=True, random_state=42)\n",
    "\n",
    "# Cross-validation results storage\n",
    "cv_f1_scores = []\n",
    "cv_accuracy_scores = []\n",
    "best_params_list = []\n",
    "\n",
    "# Cross-validation \n",
    "for fold, (train_index, val_index) in enumerate(skf.split(X_train, y_train), start=1):\n",
    "    X_cv_train, X_cv_val = X_train[train_index], X_train[val_index]\n",
    "    y_cv_train, y_cv_val = y_train[train_index], y_train[val_index]\n",
    "    \n",
    "    # Grid Search with SVM for each fold\n",
    "    svm = SVC(random_state=42)\n",
    "    grid_search_svm = GridSearchCV(svm, param_grid_svm, scoring='f1_weighted', cv=3, n_jobs=-1, verbose=1)\n",
    "    grid_search_svm.fit(X_cv_train, y_cv_train)\n",
    "    \n",
    "    # Get the best model\n",
    "    best_svm = grid_search_svm.best_estimator_\n",
    "    svm_pred = best_svm.predict(X_cv_val)\n",
    "    \n",
    "    # Evaluation\n",
    "    fold_f1 = f1_score(y_cv_val, svm_pred, average='weighted')\n",
    "    fold_accuracy = accuracy_score(y_cv_val, svm_pred)\n",
    "    cv_f1_scores.append(fold_f1)\n",
    "    cv_accuracy_scores.append(fold_accuracy)\n",
    "    \n",
    "    # Save the best parameters\n",
    "    best_params_list.append(grid_search_svm.best_params_)\n",
    "    \n",
    "    print(f\"Fold {fold}: F1 Score = {fold_f1:.2f}, Accuracy = {fold_accuracy:.2f}\")\n",
    "\n",
    "# cross-validation results\n",
    "mean_f1 = np.mean(cv_f1_scores)\n",
    "mean_accuracy = np.mean(cv_accuracy_scores)\n",
    "\n",
    "print(\"\\nCross-Validation Summary:\")\n",
    "print(f\"Mean F1 Score: {mean_f1:.2f}\")\n",
    "print(f\"Mean Accuracy: {mean_accuracy:.2f}\")\n",
    "print(f\"Best Parameters Across Folds: {best_params_list}\")\n",
    "\n",
    "# Training the model\n",
    "final_svm = SVC(**grid_search_svm.best_params_, random_state=42)\n",
    "final_svm.fit(X_train, y_train)\n",
    "\n",
    "# Evaluation\n",
    "svm_pred_test = final_svm.predict(X_test)\n",
    "svm_f1_test = f1_score(y_test, svm_pred_test, average='weighted')\n",
    "svm_accuracy_test = accuracy_score(y_test, svm_pred_test)\n",
    "\n",
    "print(f\"\\nFinal Model Performance on Test Set:\")\n",
    "print(f\"Test F1 Score: {svm_f1_test:.2f}\")\n",
    "print(f\"Test Accuracy: {svm_accuracy_test:.2f}\")\n",
    "print(\"\\nClassification Report for Test Set:\")\n",
    "print(classification_report(y_test, svm_pred_test))\n",
    "\n",
    "# Confusion Matrix\n",
    "svm_conf_matrix = confusion_matrix(y_test, svm_pred_test)\n",
    "ConfusionMatrixDisplay(svm_conf_matrix).plot(cmap='Oranges')\n",
    "plt.title(\"SVM Confusion Matrix (Test Set)\")\n",
    "plt.show()\n"
   ]
  },
  {
   "cell_type": "markdown",
   "metadata": {},
   "source": [
    "### HMM Model"
   ]
  },
  {
   "cell_type": "code",
   "execution_count": 8,
   "metadata": {},
   "outputs": [
    {
     "name": "stdout",
     "output_type": "stream",
     "text": [
      "Starting Grid Search...\n",
      "Training with params: n_components=3, covariance_type=diag, n_iter=50\n",
      "Training with params: n_components=3, covariance_type=diag, n_iter=100\n",
      "Training with params: n_components=3, covariance_type=full, n_iter=50\n",
      "Training with params: n_components=3, covariance_type=full, n_iter=100\n",
      "\n",
      "Best Parameters Found:\n",
      "{'n_components': 3, 'covariance_type': 'diag', 'n_iter': 50}\n",
      "Best F1-Score: 0.2102\n",
      "\n",
      "HMM Model Performance with Best Parameters:\n",
      "F1-Score: 0.2102\n",
      "Accuracy: 0.26\n",
      "\n",
      "Classification Report:\n",
      "              precision    recall  f1-score   support\n",
      "\n",
      "           0       0.14      0.04      0.06       275\n",
      "           1       0.29      0.16      0.20       258\n",
      "           2       0.27      0.61      0.38       262\n",
      "\n",
      "    accuracy                           0.26       795\n",
      "   macro avg       0.23      0.27      0.21       795\n",
      "weighted avg       0.23      0.26      0.21       795\n",
      "\n"
     ]
    },
    {
     "data": {
      "image/png": "[encoded data removed]",
      "text/plain": [
       "<Figure size 640x480 with 2 Axes>"
      ]
     },
     "metadata": {},
     "output_type": "display_data"
    }
   ],
   "source": [
    "\n",
    "scaler = StandardScaler()\n",
    "X_train_scaled = scaler.fit_transform(X_train)\n",
    "X_test_scaled = scaler.transform(X_test)\n",
    "\n",
    "\n",
    "label_encoder = LabelEncoder()\n",
    "y_train_encoded = label_encoder.fit_transform(y_train)\n",
    "y_test_encoded = label_encoder.transform(y_test)\n",
    "\n",
    "\n",
    "X_train_seq = np.concatenate(X_train_scaled).reshape(-1, 1)\n",
    "X_test_seq = np.concatenate(X_test_scaled).reshape(-1, 1)\n",
    "\n",
    "train_lengths = [X_train.shape[1]] * X_train.shape[0]  \n",
    "test_lengths = [X_test.shape[1]] * X_test.shape[0]  \n",
    "\n",
    "param_grid = {\n",
    "    'n_components': [3],  \n",
    "    'covariance_type': ['diag', 'full'], \n",
    "    'n_iter': [50, 100]  \n",
    "}\n",
    "\n",
    "best_score = -np.inf\n",
    "best_params = None\n",
    "best_model = None\n",
    "\n",
    "\n",
    "print(\"Starting Grid Search...\")\n",
    "for n_components, covariance_type, n_iter in product(param_grid['n_components'], param_grid['covariance_type'], param_grid['n_iter']):\n",
    "    print(f\"Training with params: n_components={n_components}, covariance_type={covariance_type}, n_iter={n_iter}\")\n",
    "    hmm_model = hmm.GaussianHMM(n_components=n_components, covariance_type=covariance_type, n_iter=n_iter, random_state=42)\n",
    "    try:\n",
    "        hmm_model.fit(X_train_seq, lengths=train_lengths)\n",
    "        \n",
    "        hmm_predictions = hmm_model.predict(X_test_seq, lengths=test_lengths)\n",
    "        \n",
    "        \n",
    "        split_indices = np.cumsum(test_lengths[:-1])  \n",
    "        grouped_predictions = np.split(hmm_predictions, split_indices)\n",
    "        aggregated_predictions = [np.bincount(group).argmax() for group in grouped_predictions]\n",
    "        \n",
    "        \n",
    "        hmm_f1 = f1_score(y_test_encoded, aggregated_predictions, average='weighted')\n",
    "        \n",
    "        if hmm_f1 > best_score:\n",
    "            best_score = hmm_f1\n",
    "            best_params = {\n",
    "                'n_components': n_components,\n",
    "                'covariance_type': covariance_type,\n",
    "                'n_iter': n_iter\n",
    "            }\n",
    "            best_model = hmm_model\n",
    "    except Exception as e:\n",
    "        print(f\"Error with params {n_components, covariance_type, n_iter}: {e}\")\n",
    "        continue\n",
    "\n",
    "print(\"\\nBest Parameters Found:\")\n",
    "print(best_params)\n",
    "print(f\"Best F1-Score: {best_score:.4f}\")\n",
    "\n",
    "\n",
    "if best_model is not None:\n",
    "    hmm_predictions = best_model.predict(X_test_seq, lengths=test_lengths)\n",
    "    \n",
    "    \n",
    "    split_indices = np.cumsum(test_lengths[:-1])\n",
    "    grouped_predictions = np.split(hmm_predictions, split_indices)\n",
    "    aggregated_predictions = [np.bincount(group).argmax() for group in grouped_predictions]\n",
    "    \n",
    "    \n",
    "    assert len(aggregated_predictions) == len(y_test_encoded)\n",
    "    \n",
    "    \n",
    "    accuracy_hmm = accuracy_score(y_test_encoded, aggregated_predictions)\n",
    "    \n",
    "    print(\"\\nHMM Model Performance with Best Parameters:\")\n",
    "    print(f\"F1-Score: {best_score:.4f}\")\n",
    "    print(f\"Accuracy: {accuracy_hmm:.2f}\")\n",
    "    print(\"\\nClassification Report:\")\n",
    "    print(classification_report(y_test_encoded, aggregated_predictions, target_names=list(map(str, label_encoder.classes_))))\n",
    "    \n",
    "    # Confusion Matrix\n",
    "    hmm_conf_matrix = confusion_matrix(y_test_encoded, aggregated_predictions)\n",
    "    ConfusionMatrixDisplay(hmm_conf_matrix, display_labels=label_encoder.classes_).plot(cmap='Oranges')\n",
    "    plt.title(\"HMM Confusion Matrix (Best Parameters)\")\n",
    "    plt.show()\n",
    "else:\n",
    "    print(\"No valid model found during grid search.\")\n"
   ]
  },
  {
   "cell_type": "markdown",
   "metadata": {},
   "source": [
    "### Statstical Tests"
   ]
  },
  {
   "cell_type": "markdown",
   "metadata": {},
   "source": [
    "#### ANOVA Test on models"
   ]
  },
  {
   "cell_type": "code",
   "execution_count": 9,
   "metadata": {},
   "outputs": [
    {
     "name": "stdout",
     "output_type": "stream",
     "text": [
      "\n",
      "F1-Scores for Each Model Across Folds:\n",
      "   Random Forest       SVM\n",
      "0       0.836416  0.828184\n",
      "1       0.836701  0.868945\n",
      "2       0.834793  0.851260\n",
      "3       0.834345  0.885422\n",
      "4       0.831274  0.832585\n",
      "\n",
      "ANOVA Test:\n",
      "F-statistic = 2.9242, p-value = 0.1256\n"
     ]
    }
   ],
   "source": [
    "\n",
    "X = X_scaled  \n",
    "y = y_encoded  \n",
    "\n",
    "#Stratified K-Fold\n",
    "n_splits = 5  # Number of folds\n",
    "skf = StratifiedKFold(n_splits=n_splits, shuffle=True, random_state=42)\n",
    "\n",
    "rf_f1_scores = []\n",
    "svm_f1_scores = []\n",
    "\n",
    "for train_index, test_index in skf.split(X, y):\n",
    "    X_train, X_test = X[train_index], X[test_index]\n",
    "    y_train, y_test = y[train_index], y[test_index]\n",
    "    \n",
    "    # Random Forest\n",
    "    rf = RandomForestClassifier(n_estimators=200, random_state=42)\n",
    "    rf.fit(X_train, y_train)\n",
    "    rf_pred = rf.predict(X_test)\n",
    "    rf_f1_scores.append(f1_score(y_test, rf_pred, average='weighted'))\n",
    "    \n",
    "    # SVM\n",
    "    svm = SVC(C=10, kernel='rbf', random_state=42)\n",
    "    svm.fit(X_train, y_train)\n",
    "    svm_pred = svm.predict(X_test)\n",
    "    svm_f1_scores.append(f1_score(y_test, svm_pred, average='weighted'))\n",
    "    \n",
    "\n",
    "f1_scores_df = pd.DataFrame({\n",
    "    'Random Forest': rf_f1_scores,\n",
    "    'SVM': svm_f1_scores,\n",
    "})\n",
    "\n",
    "# Display F1-scores\n",
    "print(\"\\nF1-Scores for Each Model Across Folds:\")\n",
    "print(f1_scores_df)\n",
    "\n",
    "# Perform statistical comparisons\n",
    "# ANOVA test to compare the mean F1-scores\n",
    "anova_result = f_oneway(f1_scores_df['Random Forest'], f1_scores_df['SVM'])\n",
    "print(f\"\\nANOVA Test:\\nF-statistic = {anova_result.statistic:.4f}, p-value = {anova_result.pvalue:.4f}\")\n",
    "\n"
   ]
  },
  {
   "cell_type": "markdown",
   "metadata": {},
   "source": [
    "#### CHI-Square Test on Features"
   ]
  },
  {
   "cell_type": "code",
   "execution_count": 10,
   "metadata": {},
   "outputs": [
    {
     "name": "stdout",
     "output_type": "stream",
     "text": [
      "               Feature  Chi2 Score       p-value\n",
      "0               MFCC_0   27.652462  9.893370e-07\n",
      "1               MFCC_1   13.772083  1.021951e-03\n",
      "2               MFCC_2   80.437558  3.413550e-18\n",
      "3               MFCC_3   58.429229  2.052363e-13\n",
      "4               MFCC_4   17.711113  1.425873e-04\n",
      "5               MFCC_5   87.633164  9.347601e-20\n",
      "6               MFCC_6   43.525649  3.536107e-10\n",
      "7               MFCC_7   10.095565  6.423563e-03\n",
      "8               MFCC_8   37.298063  7.958449e-09\n",
      "9               MFCC_9   21.871448  1.781047e-05\n",
      "10             MFCC_10   61.055561  5.520183e-14\n",
      "11             MFCC_11  225.335275  1.172376e-49\n",
      "12             MFCC_12   54.126136  1.764652e-12\n",
      "13            Chroma_0   22.036957  1.639592e-05\n",
      "14            Chroma_1    6.673415  3.555383e-02\n",
      "15            Chroma_2   10.871795  4.357323e-03\n",
      "16            Chroma_3   18.522219  9.504981e-05\n",
      "17            Chroma_4   25.809877  2.485744e-06\n",
      "18            Chroma_5   38.667118  4.013673e-09\n",
      "19            Chroma_6   35.619181  1.842439e-08\n",
      "20            Chroma_7   32.564588  8.485737e-08\n",
      "21            Chroma_8   24.804518  4.109296e-06\n",
      "22            Chroma_9   49.581985  1.711625e-11\n",
      "23           Chroma_10   57.317730  3.577775e-13\n",
      "24           Chroma_11   67.680290  2.010999e-15\n",
      "25  SpectralContrast_0  381.924760  1.164373e-83\n",
      "26  SpectralContrast_1  428.943055  7.181234e-94\n",
      "27  SpectralContrast_2   11.502845  3.178256e-03\n",
      "28  SpectralContrast_3   61.811309  3.783073e-14\n",
      "29  SpectralContrast_4   82.926378  9.834807e-19\n",
      "30  SpectralContrast_5   55.688890  8.078136e-13\n",
      "31  SpectralContrast_6  139.203318  5.920844e-31\n"
     ]
    }
   ],
   "source": [
    "\n",
    "X = df2.drop(columns=['Label'])\n",
    "y = df2['Label']\n",
    "\n",
    "kbins = KBinsDiscretizer(n_bins=5, encode='ordinal', strategy='uniform')\n",
    "X_binned = kbins.fit_transform(X)\n",
    "\n",
    "# Perform Chi-Square test\n",
    "chi2_scores, p_values = chi2(X_binned, y)\n",
    "\n",
    "chi2_results = pd.DataFrame({\n",
    "    'Feature': X.columns,\n",
    "    'Chi2 Score': chi2_scores,\n",
    "    'p-value': p_values\n",
    "})\n",
    "\n",
    "# Display the Chi-Square test results\n",
    "print(chi2_results)\n",
    "\n"
   ]
  },
  {
   "cell_type": "markdown",
   "metadata": {},
   "source": [
    "#### Top 7 results for chi-square test"
   ]
  },
  {
   "cell_type": "code",
   "execution_count": 11,
   "metadata": {},
   "outputs": [
    {
     "name": "stdout",
     "output_type": "stream",
     "text": [
      "Top 7 Features Based on Chi-Square Test:\n",
      "               Feature  Chi2 Score       p-value\n",
      "26  SpectralContrast_1  428.943055  7.181234e-94\n",
      "25  SpectralContrast_0  381.924760  1.164373e-83\n",
      "11             MFCC_11  225.335275  1.172376e-49\n",
      "31  SpectralContrast_6  139.203318  5.920844e-31\n",
      "5               MFCC_5   87.633164  9.347601e-20\n",
      "29  SpectralContrast_4   82.926378  9.834807e-19\n",
      "2               MFCC_2   80.437558  3.413550e-18\n"
     ]
    }
   ],
   "source": [
    "top_7_features = chi2_results.sort_values(by='Chi2 Score', ascending=False).head(7)\n",
    "\n",
    "# Display the top 7 results\n",
    "print(\"Top 7 Features Based on Chi-Square Test:\")\n",
    "print(top_7_features)"
   ]
  },
  {
   "cell_type": "markdown",
   "metadata": {},
   "source": [
    "### T-Test Between Original and Denoised Audio Models"
   ]
  },
  {
   "cell_type": "code",
   "execution_count": 12,
   "metadata": {},
   "outputs": [
    {
     "name": "stdout",
     "output_type": "stream",
     "text": [
      "T-Statistic: -10.2538\n",
      "P-Value: 0.0005\n",
      "Reject the null hypothesis: There is a significant difference between the two conditions.\n"
     ]
    }
   ],
   "source": [
    "\n",
    "original_scores = [0.7432, 0.7392, 0.7564, 0.7431, 0.7201]\n",
    "denoised_scores = [0.8164, 0.7967, 0.8047, 0.7843, 0.7812]\n",
    "\n",
    "#paired t-test\n",
    "t_stat, p_value = ttest_rel(original_scores, denoised_scores)\n",
    "\n",
    "#results\n",
    "print(f\"T-Statistic: {t_stat:.4f}\")\n",
    "print(f\"P-Value: {p_value:.4f}\")\n",
    "\n",
    "# Interpretation\n",
    "alpha = 0.05  # Significance level\n",
    "if p_value < alpha:\n",
    "    print(\"Reject the null hypothesis: There is a significant difference between the two conditions.\")\n",
    "else:\n",
    "    print(\"Fail to reject the null hypothesis: No significant difference between the two conditions.\")\n"
   ]
  }
 ],
 "metadata": {
  "kernelspec": {
   "display_name": "base",
   "language": "python",
   "name": "python3"
  },
  "language_info": {
   "codemirror_mode": {
    "name": "ipython",
    "version": 3
   },
   "file_extension": ".py",
   "mimetype": "text/x-python",
   "name": "python",
   "nbconvert_exporter": "python",
   "pygments_lexer": "ipython3",
   "version": "3.11.5"
  }
 },
 "nbformat": 4,
 "nbformat_minor": 2
}
